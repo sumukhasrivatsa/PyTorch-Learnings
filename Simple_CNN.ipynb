{
  "nbformat": 4,
  "nbformat_minor": 0,
  "metadata": {
    "colab": {
      "name": "Simple CNN.ipynb",
      "provenance": [],
      "collapsed_sections": [],
      "authorship_tag": "ABX9TyPrB5/sY1z+zNl0sJ7ffTBr",
      "include_colab_link": true
    },
    "kernelspec": {
      "name": "python3",
      "display_name": "Python 3"
    },
    "language_info": {
      "name": "python"
    },
    "accelerator": "GPU"
  },
  "cells": [
    {
      "cell_type": "markdown",
      "metadata": {
        "id": "view-in-github",
        "colab_type": "text"
      },
      "source": [
        "<a href=\"https://colab.research.google.com/github/sumukhasrivatsa/PyTorch-Learnings/blob/main/Simple_CNN.ipynb\" target=\"_parent\"><img src=\"https://colab.research.google.com/assets/colab-badge.svg\" alt=\"Open In Colab\"/></a>"
      ]
    },
    {
      "cell_type": "code",
      "execution_count": 26,
      "metadata": {
        "id": "NfZvOSx31AqG"
      },
      "outputs": [],
      "source": [
        "import torch\n",
        "import numpy as np\n",
        "import torch.nn as nn\n",
        "import torch.nn.functional as F\n",
        "import matplotlib.pyplot as plt\n",
        "import torchvision\n",
        "from torchvision.transforms import transforms \n",
        "\n",
        "\n"
      ]
    },
    {
      "cell_type": "code",
      "source": [
        ""
      ],
      "metadata": {
        "id": "pFr_2YUtJjBN"
      },
      "execution_count": null,
      "outputs": []
    },
    {
      "cell_type": "code",
      "source": [
        "#importing the data set\n",
        "\n",
        "train_set=torchvision.datasets.CIFAR10(root=\"/content/TRAINDATA\",train=True,download=True,transform=torchvision.transforms.Compose([torchvision.transforms.ToTensor()]))\n",
        "test_set=torchvision.datasets.CIFAR10(root=\"/content/TESTDATA\",train=False,download=True,transform=torchvision.transforms.Compose([torchvision.transforms.ToTensor()]))"
      ],
      "metadata": {
        "colab": {
          "base_uri": "https://localhost:8080/"
        },
        "id": "aUDOgNffAj4V",
        "outputId": "0e745fe3-2371-491e-ecac-0e8c85f17314"
      },
      "execution_count": 38,
      "outputs": [
        {
          "output_type": "stream",
          "name": "stdout",
          "text": [
            "Files already downloaded and verified\n",
            "Files already downloaded and verified\n"
          ]
        }
      ]
    },
    {
      "cell_type": "code",
      "source": [
        "\n",
        "#first of all , those images are objects of PIL library\n",
        "#need to convert them to tensors \n",
        "#so go back and use transforms \n",
        "\n",
        "\n",
        "#transform=transforms.compose([transforms.ToTensor])\n",
        "\n",
        "#now we just have dataset \n",
        "#we need a dataloader which brings in data from these folders \n",
        "\n",
        "train_loader=torch.utils.data.DataLoader(train_set,batch_size=10,shuffle=True)\n",
        "test_loader=torch.utils.data.DataLoader(test_set,batch_size=10,shuffle=True)\n",
        "\n",
        "\n"
      ],
      "metadata": {
        "id": "7TNXUMvmCWil"
      },
      "execution_count": 39,
      "outputs": []
    },
    {
      "cell_type": "code",
      "source": [
        "#implementing the convolutional neural network\n",
        "n_total_steps = len(train_loader)\n",
        "import torch.nn as nn\n",
        "class netC(nn.Module):\n",
        "  def __init__(self):\n",
        "    super(netC,self).__init__()\n",
        "    self.conv1=nn.Conv2d(3,6,5)\n",
        "    self.pool1=nn.MaxPool2d(2,2)\n",
        "    self.conv2=nn.Conv2d(6,15,5)\n",
        "    self.pool2=nn.MaxPool2d(2,2)\n",
        "    self.linearlayer1=nn.Linear(15*5*5,120)\n",
        "    \n",
        "    self.Linearlayer2=nn.Linear(120,60)\n",
        "    self.act=nn.ReLU()\n",
        "    self.linearlayer3=nn.Linear(60,10)\n",
        "    self.act2=nn.Sigmoid()\n",
        "\n",
        "\n",
        "\n",
        "\n",
        "\n",
        "  def forward(self,set):\n",
        "    set=self.conv1(set)\n",
        "    set=self.pool1(set)\n",
        "    set=self.conv2(set)\n",
        "    set=self.pool2(set)\n",
        "    set=set.view(-1,15*5*5)\n",
        "    set=self.linearlayer1(set)\n",
        "    set=self.Linearlayer2(set)\n",
        "    set=self.act(set)\n",
        "    set=self.linearlayer3(set)\n",
        "    set=self.act2(set)\n",
        "\n",
        "    return set\n",
        "\n",
        "classifier=netC()\n",
        "lossfunc=nn.CrossEntropyLoss()  \n",
        "\n",
        "optimizer=torch.optim.SGD(classifier.parameters(),0.001,)\n",
        "steps=len(train_loader)\n",
        "for epoch in range(10):\n",
        "  for i,(images,labels) in enumerate(train_loader):\n",
        "    output=classifier(images)\n",
        "    loss=lossfunc(output,labels)\n",
        "\n",
        "    optimizer.zero_grad()\n",
        "    loss.backward()\n",
        "    optimizer.step()\n",
        "\n",
        "    if (i+1) % 2000 == 0:\n",
        "            print (f'Epoch [{epoch+1}/{10}], Step [{i+1}/{n_total_steps}], Loss: {loss.item():.4f}')\n",
        "\n"
      ],
      "metadata": {
        "colab": {
          "base_uri": "https://localhost:8080/"
        },
        "id": "cGMnFpfiFRDO",
        "outputId": "8253fb3c-8952-499c-feea-5d6a00d7116b"
      },
      "execution_count": 51,
      "outputs": [
        {
          "output_type": "stream",
          "name": "stdout",
          "text": [
            "Epoch [1/10], Step [2000/5000], Loss: 2.3093\n",
            "Epoch [1/10], Step [4000/5000], Loss: 2.3045\n",
            "Epoch [2/10], Step [2000/5000], Loss: 2.3056\n",
            "Epoch [2/10], Step [4000/5000], Loss: 2.3011\n",
            "Epoch [3/10], Step [2000/5000], Loss: 2.2980\n",
            "Epoch [3/10], Step [4000/5000], Loss: 2.3062\n",
            "Epoch [4/10], Step [2000/5000], Loss: 2.3012\n",
            "Epoch [4/10], Step [4000/5000], Loss: 2.3029\n",
            "Epoch [5/10], Step [2000/5000], Loss: 2.3004\n",
            "Epoch [5/10], Step [4000/5000], Loss: 2.2943\n",
            "Epoch [6/10], Step [2000/5000], Loss: 2.2992\n",
            "Epoch [6/10], Step [4000/5000], Loss: 2.2925\n",
            "Epoch [7/10], Step [2000/5000], Loss: 2.2482\n",
            "Epoch [7/10], Step [4000/5000], Loss: 2.2904\n",
            "Epoch [8/10], Step [2000/5000], Loss: 2.2616\n",
            "Epoch [8/10], Step [4000/5000], Loss: 2.2272\n",
            "Epoch [9/10], Step [2000/5000], Loss: 2.0636\n",
            "Epoch [9/10], Step [4000/5000], Loss: 2.1666\n",
            "Epoch [10/10], Step [2000/5000], Loss: 2.1168\n",
            "Epoch [10/10], Step [4000/5000], Loss: 2.1883\n"
          ]
        }
      ]
    },
    {
      "cell_type": "code",
      "source": [
        "\n",
        "def imshow(img):\n",
        "    img = img / 2 + 0.5  # unnormalize\n",
        "    npimg = img.numpy()\n",
        "    plt.imshow(np.transpose(npimg, (1, 2, 0)))\n",
        "    plt.show()\n",
        "\n",
        "\n",
        "# get some random training images\n",
        "dataiter = iter(train_loader)\n",
        "images, labels = dataiter.next()\n",
        "\n",
        "# show images\n",
        "imshow(torchvision.utils.make_grid(images))"
      ],
      "metadata": {
        "colab": {
          "base_uri": "https://localhost:8080/",
          "height": 136
        },
        "id": "8W7i4A02RYel",
        "outputId": "54336fb1-e5c3-4a55-8991-830ce41a2d45"
      },
      "execution_count": 49,
      "outputs": [
        {
          "output_type": "display_data",
          "data": {
            "image/png": "[encoded data removed]",
            "text/plain": [
              "<Figure size 432x288 with 1 Axes>"
            ]
          },
          "metadata": {
            "needs_background": "light"
          }
        }
      ]
    },
    {
      "cell_type": "code",
      "source": [
        "\n",
        "classes = ('plane', 'car', 'bird', 'cat',\n",
        "           'deer', 'dog', 'frog', 'horse', 'ship', 'truck')\n",
        "\n",
        "with torch.no_grad():\n",
        "    n_correct = 0\n",
        "    n_samples = 0\n",
        "    n_class_correct = [0 for i in range(10)]\n",
        "    n_class_samples = [0 for i in range(10)]\n",
        "    for images, labels in test_loader:\n",
        "        \n",
        "        outputs = classifier(images)\n",
        "        # max returns (value ,index)\n",
        "        _, predicted = torch.max(outputs, 1)\n",
        "        n_samples += labels.size(0)\n",
        "        n_correct += (predicted == labels).sum().item()\n",
        "        \n",
        "        for i in range(4):\n",
        "            label = labels[i]\n",
        "            pred = predicted[i]\n",
        "            if (label == pred):\n",
        "                n_class_correct[label] += 1\n",
        "            n_class_samples[label] += 1\n",
        "\n",
        "    acc = 100.0 * n_correct / n_samples\n",
        "    print(f'Accuracy of the network: {acc} %')\n",
        "\n",
        "    for i in range(10):\n",
        "        acc = 100.0 * n_class_correct[i] / n_class_samples[i]\n",
        "        print(f'Accuracy of {classes[i]}: {acc} %')"
      ],
      "metadata": {
        "colab": {
          "base_uri": "https://localhost:8080/"
        },
        "id": "hmArZuJpOyFc",
        "outputId": "f95d0794-e4c6-4202-c95d-81568706cc4e"
      },
      "execution_count": 52,
      "outputs": [
        {
          "output_type": "stream",
          "name": "stdout",
          "text": [
            "Accuracy of the network: 24.45 %\n",
            "Accuracy of plane: 42.92929292929293 %\n",
            "Accuracy of car: 19.306930693069308 %\n",
            "Accuracy of bird: 12.408759124087592 %\n",
            "Accuracy of cat: 21.393034825870647 %\n",
            "Accuracy of deer: 18.78048780487805 %\n",
            "Accuracy of dog: 35.57213930348259 %\n",
            "Accuracy of frog: 6.122448979591836 %\n",
            "Accuracy of horse: 15.544041450777202 %\n",
            "Accuracy of ship: 34.92063492063492 %\n",
            "Accuracy of truck: 31.026252983293556 %\n"
          ]
        }
      ]
    }
  ]
}